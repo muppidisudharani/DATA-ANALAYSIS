{
  "nbformat": 4,
  "nbformat_minor": 0,
  "metadata": {
    "colab": {
      "provenance": []
    },
    "kernelspec": {
      "name": "python3",
      "display_name": "Python 3"
    },
    "language_info": {
      "name": "python"
    }
  },
  "cells": [
    {
      "cell_type": "code",
      "execution_count": null,
      "metadata": {
        "id": "VFHraErysLM6"
      },
      "outputs": [],
      "source": [
        "operators"
      ]
    },
    {
      "cell_type": "code",
      "source": [
        "a=5\n",
        "print(\"I am\",a,\"years old\")"
      ],
      "metadata": {
        "colab": {
          "base_uri": "https://localhost:8080/"
        },
        "id": "q74nvKj6sXaT",
        "outputId": "ba15e069-9a37-488d-f822-81472ef3d746"
      },
      "execution_count": null,
      "outputs": [
        {
          "output_type": "stream",
          "name": "stdout",
          "text": [
            "I am 5 years old\n"
          ]
        }
      ]
    },
    {
      "cell_type": "code",
      "source": [
        "#arithmetic\n",
        "a=5\n",
        "b=25\n",
        "print(a+b)"
      ],
      "metadata": {
        "colab": {
          "base_uri": "https://localhost:8080/"
        },
        "id": "4t3WcayRs3M3",
        "outputId": "2b1ab803-0726-4a54-d2a5-c5bc80a141b2"
      },
      "execution_count": null,
      "outputs": [
        {
          "output_type": "stream",
          "name": "stdout",
          "text": [
            "30\n"
          ]
        }
      ]
    },
    {
      "cell_type": "code",
      "source": [
        "#power\n",
        "print(2**5)"
      ],
      "metadata": {
        "colab": {
          "base_uri": "https://localhost:8080/"
        },
        "id": "7NdwSeJFtLwk",
        "outputId": "c37ef8e1-d34d-4b5c-8c7f-f2d7d5e3b291"
      },
      "execution_count": null,
      "outputs": [
        {
          "output_type": "stream",
          "name": "stdout",
          "text": [
            "32\n"
          ]
        }
      ]
    },
    {
      "cell_type": "code",
      "source": [
        "#floor division\n",
        "print(25//2)"
      ],
      "metadata": {
        "colab": {
          "base_uri": "https://localhost:8080/"
        },
        "id": "BmnJYpPftTdO",
        "outputId": "8617aaff-5cec-416e-eea5-98b124c0ecfc"
      },
      "execution_count": null,
      "outputs": [
        {
          "output_type": "stream",
          "name": "stdout",
          "text": [
            "12\n"
          ]
        }
      ]
    },
    {
      "cell_type": "code",
      "source": [
        "#relational\n",
        "a=6\n",
        "b=6\n",
        "print(a==b)\n",
        "print(a>b)\n",
        "print(a<b)\n",
        "print(a!=b)\n",
        "print(a>=b)\n",
        "print(a<=b)"
      ],
      "metadata": {
        "colab": {
          "base_uri": "https://localhost:8080/"
        },
        "id": "BGjic4lktaI9",
        "outputId": "073562bb-8ed4-44ec-9243-a65c5211cbf6"
      },
      "execution_count": null,
      "outputs": [
        {
          "output_type": "stream",
          "name": "stdout",
          "text": [
            "True\n",
            "False\n",
            "False\n",
            "False\n",
            "True\n",
            "True\n"
          ]
        }
      ]
    },
    {
      "cell_type": "code",
      "source": [
        "#logical\n",
        "a=9\n",
        "b=25\n",
        "print(a>b)and (a<b) #false and true"
      ],
      "metadata": {
        "colab": {
          "base_uri": "https://localhost:8080/"
        },
        "id": "gf3Lx9Tjt5bF",
        "outputId": "aa6a5d69-da16-40bb-f451-a7911149f509"
      },
      "execution_count": null,
      "outputs": [
        {
          "output_type": "stream",
          "name": "stdout",
          "text": [
            "False\n"
          ]
        }
      ]
    },
    {
      "cell_type": "code",
      "source": [
        "print((a>b) or (a<b)) #false and true"
      ],
      "metadata": {
        "colab": {
          "base_uri": "https://localhost:8080/"
        },
        "id": "AbEOnLlsuMn5",
        "outputId": "07ab71a4-1266-4f25-8b83-5a63e5e5de6d"
      },
      "execution_count": null,
      "outputs": [
        {
          "output_type": "stream",
          "name": "stdout",
          "text": [
            "True\n"
          ]
        }
      ]
    },
    {
      "cell_type": "code",
      "source": [
        "#membership\n",
        "a=\"private\"\n",
        "print(\"a\"in a)\n",
        "print(\"a\"not in a)"
      ],
      "metadata": {
        "colab": {
          "base_uri": "https://localhost:8080/"
        },
        "id": "GVrZnGhTuZhw",
        "outputId": "79d85ab0-8522-4b87-e727-d05e9c4c2ac0"
      },
      "execution_count": null,
      "outputs": [
        {
          "output_type": "stream",
          "name": "stdout",
          "text": [
            "True\n",
            "False\n"
          ]
        }
      ]
    },
    {
      "cell_type": "markdown",
      "source": [
        "control flow"
      ],
      "metadata": {
        "id": "Lj0laVLwu7Uk"
      }
    },
    {
      "cell_type": "code",
      "source": [
        "#condition if\n",
        "#write a program to get a number from the user and check whether the number is +ve or -ve\n",
        "a=int(input(\"enter a number\"))\n",
        "print(type(a))\n",
        "if a>0:\n",
        "  print(a,\"is +ve\")\n",
        "else:\n",
        "  print(a,\"is -ve\")\n"
      ],
      "metadata": {
        "colab": {
          "base_uri": "https://localhost:8080/"
        },
        "id": "Vz_J_BobvBa-",
        "outputId": "ba5aa1b2-bda8-4fbc-e6f8-7666fee51e51"
      },
      "execution_count": null,
      "outputs": [
        {
          "output_type": "stream",
          "name": "stdout",
          "text": [
            "enter a number4\n",
            "<class 'int'>\n",
            "4 is +ve\n"
          ]
        }
      ]
    },
    {
      "cell_type": "code",
      "source": [
        "a=int(input(\"enter a value:\"))\n",
        "print(type(a))\n",
        "if a>0:\n",
        "  print(a,\"is +ve\")\n",
        "elif a==0:\n",
        "  print(a,\"neutral\")\n",
        "else:\n",
        "  print(a,\"is -ve\")"
      ],
      "metadata": {
        "colab": {
          "base_uri": "https://localhost:8080/"
        },
        "id": "A-wbtF0OxrNx",
        "outputId": "94f9291b-f1b2-4e47-cbf6-6c9b354abb4f"
      },
      "execution_count": null,
      "outputs": [
        {
          "output_type": "stream",
          "name": "stdout",
          "text": [
            "enter a value:0\n",
            "<class 'int'>\n",
            "0 neutral\n"
          ]
        }
      ]
    },
    {
      "cell_type": "markdown",
      "source": [
        "four table\n"
      ],
      "metadata": {
        "id": "dbCmQFDR04Oo"
      }
    },
    {
      "cell_type": "code",
      "source": [
        "n=4\n",
        "for i in range(1,11,1):\n",
        "  a=n*i\n",
        "  print(a)"
      ],
      "metadata": {
        "colab": {
          "base_uri": "https://localhost:8080/"
        },
        "id": "O2q4ji_b07kz",
        "outputId": "38f940d0-353d-46e3-f456-482a39cb1b53"
      },
      "execution_count": null,
      "outputs": [
        {
          "output_type": "stream",
          "name": "stdout",
          "text": [
            "4\n",
            "8\n",
            "12\n",
            "16\n",
            "20\n",
            "24\n",
            "28\n",
            "32\n",
            "36\n",
            "40\n"
          ]
        }
      ]
    },
    {
      "cell_type": "code",
      "source": [
        "n=int(input(\"enter a value\"))\n",
        "for i in range(1,11,1):\n",
        "  a=n*i\n",
        "  print(a)"
      ],
      "metadata": {
        "colab": {
          "base_uri": "https://localhost:8080/"
        },
        "id": "ZL27Lmp72FNU",
        "outputId": "f5c44a30-6305-48c4-984c-31e314acb880"
      },
      "execution_count": null,
      "outputs": [
        {
          "output_type": "stream",
          "name": "stdout",
          "text": [
            "enter a value5\n",
            "5\n",
            "10\n",
            "15\n",
            "20\n",
            "25\n",
            "30\n",
            "35\n",
            "40\n",
            "45\n",
            "50\n"
          ]
        }
      ]
    },
    {
      "cell_type": "code",
      "source": [
        "#type casting\n",
        "a=25.5 #float\n",
        "b=6 #int\n",
        "print(a*b) #interpreter automatically changes data into float\n"
      ],
      "metadata": {
        "colab": {
          "base_uri": "https://localhost:8080/"
        },
        "id": "Hjj5TsJH3QuT",
        "outputId": "46189fd7-f4d9-4403-c85f-d47bf7f00c65"
      },
      "execution_count": null,
      "outputs": [
        {
          "output_type": "stream",
          "name": "stdout",
          "text": [
            "153.0\n"
          ]
        }
      ]
    },
    {
      "cell_type": "code",
      "source": [
        "#explict type casting\n",
        "a=9.8\n",
        "b=7\n",
        "print(int(a*b))"
      ],
      "metadata": {
        "colab": {
          "base_uri": "https://localhost:8080/"
        },
        "id": "OPtdF8sb4Y_l",
        "outputId": "2dc8ab4a-f368-4516-f441-87730b417c63"
      },
      "execution_count": null,
      "outputs": [
        {
          "output_type": "stream",
          "name": "stdout",
          "text": [
            "68\n"
          ]
        }
      ]
    },
    {
      "cell_type": "code",
      "source": [
        "a=\"45\"\n",
        "a=int(a)\n",
        "print(type(a))"
      ],
      "metadata": {
        "colab": {
          "base_uri": "https://localhost:8080/"
        },
        "id": "VWcXlXOP5G5G",
        "outputId": "ea85630d-9ffa-47b0-c0be-dfe6db14b962"
      },
      "execution_count": null,
      "outputs": [
        {
          "output_type": "stream",
          "name": "stdout",
          "text": [
            "<class 'int'>\n"
          ]
        }
      ]
    },
    {
      "cell_type": "markdown",
      "source": [
        "data slicing\n"
      ],
      "metadata": {
        "id": "I0t79vyL5vht"
      }
    },
    {
      "cell_type": "code",
      "source": [
        "a= \"python is easy\"\n",
        "print(a[::2])"
      ],
      "metadata": {
        "colab": {
          "base_uri": "https://localhost:8080/"
        },
        "id": "yVLnp70D5zZz",
        "outputId": "38d70c28-fef9-4fc6-a0cc-f2bd97d8428c"
      },
      "execution_count": null,
      "outputs": [
        {
          "output_type": "stream",
          "name": "stdout",
          "text": [
            "pto ses\n"
          ]
        }
      ]
    },
    {
      "cell_type": "code",
      "source": [
        "a=\"python is easy\"\n",
        "print(a[::-1])"
      ],
      "metadata": {
        "colab": {
          "base_uri": "https://localhost:8080/"
        },
        "id": "WcLmuXcY6UUE",
        "outputId": "16690e98-e2f5-4431-958c-7da637de1f90"
      },
      "execution_count": null,
      "outputs": [
        {
          "output_type": "stream",
          "name": "stdout",
          "text": [
            "ysae si nohtyp\n"
          ]
        }
      ]
    },
    {
      "cell_type": "code",
      "source": [
        "a=\"python is easy\"\n",
        "print(a[0:6])"
      ],
      "metadata": {
        "colab": {
          "base_uri": "https://localhost:8080/"
        },
        "id": "fcC2lBbb6dw0",
        "outputId": "7863b5d4-5ed8-4ddc-cf74-7a0d223bb397"
      },
      "execution_count": null,
      "outputs": [
        {
          "output_type": "stream",
          "name": "stdout",
          "text": [
            "python\n"
          ]
        }
      ]
    },
    {
      "cell_type": "code",
      "source": [
        "a=int(input(\"enter a value\"))\n",
        "i=1\n",
        "while(i<=10):\n",
        "  n=a*i\n",
        "  i=i+1\n",
        "  print(n)"
      ],
      "metadata": {
        "colab": {
          "base_uri": "https://localhost:8080/"
        },
        "id": "lxmmsCZC6xSy",
        "outputId": "20cfeb93-92d9-477b-ffd6-c3246559ae21"
      },
      "execution_count": null,
      "outputs": [
        {
          "output_type": "stream",
          "name": "stdout",
          "text": [
            "enter a value5\n",
            "5\n",
            "10\n",
            "15\n",
            "20\n",
            "25\n",
            "30\n",
            "35\n",
            "40\n",
            "45\n",
            "50\n"
          ]
        }
      ]
    },
    {
      "cell_type": "markdown",
      "source": [
        "collections:\n",
        "\n",
        " List:\n",
        "\n",
        "*list is a collection of elements\n",
        "\n",
        "*Heterogeneous\n",
        "\n",
        "*Mutable(modifiable)\n"
      ],
      "metadata": {
        "id": "t6OqxUTi8Wp7"
      }
    },
    {
      "cell_type": "code",
      "source": [
        "l1=[3,\"sudha\",90,6,5,7]\n",
        "print(l1)"
      ],
      "metadata": {
        "colab": {
          "base_uri": "https://localhost:8080/"
        },
        "id": "VOzwFL7k8jo1",
        "outputId": "6098f59b-51d5-4d48-a097-280fcf8269f3"
      },
      "execution_count": null,
      "outputs": [
        {
          "output_type": "stream",
          "name": "stdout",
          "text": [
            "[3, 'sudha', 90, 6, 5, 7]\n"
          ]
        }
      ]
    },
    {
      "cell_type": "code",
      "source": [
        "for i in l1:\n",
        "  print(i)"
      ],
      "metadata": {
        "colab": {
          "base_uri": "https://localhost:8080/"
        },
        "id": "G7RcY26r-rwO",
        "outputId": "77deda1c-5c08-49b0-ee55-e3e85ccb8b65"
      },
      "execution_count": null,
      "outputs": [
        {
          "output_type": "stream",
          "name": "stdout",
          "text": [
            "3\n",
            "sudha\n",
            "90\n",
            "6\n",
            "5\n",
            "7\n"
          ]
        }
      ]
    },
    {
      "cell_type": "code",
      "source": [
        "l1.append(\"sudha\")\n",
        "print(l1)"
      ],
      "metadata": {
        "colab": {
          "base_uri": "https://localhost:8080/"
        },
        "id": "dTPZnxRi_qbO",
        "outputId": "03b69ed7-e54e-4692-9240-f8ab63c0dc25"
      },
      "execution_count": null,
      "outputs": [
        {
          "output_type": "stream",
          "name": "stdout",
          "text": [
            "[3, 'sudha', 90, 6, 5, 7, 'sudha']\n"
          ]
        }
      ]
    },
    {
      "cell_type": "code",
      "source": [
        "l1.insert(3,\"hai\")\n",
        "print(l1)"
      ],
      "metadata": {
        "colab": {
          "base_uri": "https://localhost:8080/"
        },
        "id": "xq5UaBSeANy4",
        "outputId": "41e73f1c-66ef-4dfc-849e-b1b67611e5ed"
      },
      "execution_count": null,
      "outputs": [
        {
          "output_type": "stream",
          "name": "stdout",
          "text": [
            "[3, 'sudha', 90, 'hai', 6, 5, 7, 'sudha']\n"
          ]
        }
      ]
    },
    {
      "cell_type": "code",
      "source": [
        "l2=[4,\"cse\"]\n",
        "l1.extend(l2)\n",
        "print(l1)"
      ],
      "metadata": {
        "colab": {
          "base_uri": "https://localhost:8080/"
        },
        "id": "1TxDm-cABcDt",
        "outputId": "420d6aef-3e24-408d-8c54-4cb63aa770c8"
      },
      "execution_count": null,
      "outputs": [
        {
          "output_type": "stream",
          "name": "stdout",
          "text": [
            "[3, 'sudha', 90, 'hai', 6, 5, 7, 'sudha', 4, 'cse', 4, 'cse']\n"
          ]
        }
      ]
    },
    {
      "cell_type": "code",
      "source": [
        "l1.pop(9)\n",
        "print(l1)"
      ],
      "metadata": {
        "colab": {
          "base_uri": "https://localhost:8080/"
        },
        "id": "l-TgcDDzCq7a",
        "outputId": "1e3dd944-c403-4f8d-ce1f-78316d0cf584"
      },
      "execution_count": null,
      "outputs": [
        {
          "output_type": "stream",
          "name": "stdout",
          "text": [
            "[3, 'sudha', 90, 'hai', 6, 5, 7, 'sudha', 4]\n"
          ]
        }
      ]
    },
    {
      "cell_type": "code",
      "source": [
        "l1.remove(4)\n",
        "print(l1)"
      ],
      "metadata": {
        "colab": {
          "base_uri": "https://localhost:8080/"
        },
        "id": "0fMYRiXFDRPd",
        "outputId": "abcf14f9-b4d9-421b-a2d7-c56139aced5b"
      },
      "execution_count": null,
      "outputs": [
        {
          "output_type": "stream",
          "name": "stdout",
          "text": [
            "[3, 'sudha', 90, 'hai', 6, 5, 7, 'sudha']\n"
          ]
        }
      ]
    },
    {
      "cell_type": "code",
      "source": [
        "l3=[2,7,4,6,8,9]\n",
        "max(l3)"
      ],
      "metadata": {
        "colab": {
          "base_uri": "https://localhost:8080/"
        },
        "id": "FJXG_U3EDzUK",
        "outputId": "1940df4c-d28d-47ab-8ff4-6e2ae9f75210"
      },
      "execution_count": null,
      "outputs": [
        {
          "output_type": "execute_result",
          "data": {
            "text/plain": [
              "9"
            ]
          },
          "metadata": {},
          "execution_count": 52
        }
      ]
    },
    {
      "cell_type": "markdown",
      "source": [
        "list comprehension\n",
        "\n",
        "1.iteration\n",
        "\n",
        "2.applies some function on every element\n",
        "\n",
        "3.conditions\n",
        "\n",
        "4.output:list"
      ],
      "metadata": {
        "id": "ti3EnAA3Eg71"
      }
    },
    {
      "cell_type": "code",
      "source": [
        "l1=[45,67,89,90]\n",
        "l2=[i**2 for i in l1]\n",
        "print(l2)"
      ],
      "metadata": {
        "colab": {
          "base_uri": "https://localhost:8080/"
        },
        "id": "TO2qZ3CWFKYG",
        "outputId": "35559d0a-5b87-41ad-e0c9-fb532d564b00"
      },
      "execution_count": null,
      "outputs": [
        {
          "output_type": "stream",
          "name": "stdout",
          "text": [
            "[2025, 4489, 7921, 8100]\n"
          ]
        }
      ]
    },
    {
      "cell_type": "code",
      "source": [
        "l1=[45,67,89,90]\n",
        "l2=[i**2 for i in l1 if i>50]\n",
        "print(l2)"
      ],
      "metadata": {
        "colab": {
          "base_uri": "https://localhost:8080/"
        },
        "id": "WaujlqurG1sT",
        "outputId": "de342382-3e8c-408f-8e9b-f792e7602c43"
      },
      "execution_count": null,
      "outputs": [
        {
          "output_type": "stream",
          "name": "stdout",
          "text": [
            "[4489, 7921, 8100]\n"
          ]
        }
      ]
    },
    {
      "cell_type": "code",
      "source": [
        "type(l2)"
      ],
      "metadata": {
        "colab": {
          "base_uri": "https://localhost:8080/"
        },
        "id": "EwIhsvrVFlvJ",
        "outputId": "0ee29d4e-e2c0-42cd-ff93-47c84c83ff9c"
      },
      "execution_count": null,
      "outputs": [
        {
          "output_type": "execute_result",
          "data": {
            "text/plain": [
              "list"
            ]
          },
          "metadata": {},
          "execution_count": 54
        }
      ]
    },
    {
      "cell_type": "code",
      "source": [
        "#the salaries of 5 employees in a company is taken as a list. the tax is 10% if the salary is less than or equal\n",
        "#or it is 15%\n",
        "#create a new list with tax amount\n",
        "#[67000,45000,89000,34000,50000]\n",
        "#list_name=[(boby of if)(condition) else (boby of else iterator)]\n",
        "sal=[67000,45000,89000,34000,50000]\n",
        "tax=[]\n",
        "for i in sal:\n",
        "  if i<=50000:\n",
        "    t=i*0.1\n",
        "    tax.append(t)\n",
        "  else:\n",
        "    t=i*0.15\n",
        "    tax.append(t)\n",
        "print(tax)"
      ],
      "metadata": {
        "colab": {
          "base_uri": "https://localhost:8080/"
        },
        "id": "yjc27sgeHevy",
        "outputId": "0a061a53-67e2-4352-d94f-52315067a5e7"
      },
      "execution_count": null,
      "outputs": [
        {
          "output_type": "stream",
          "name": "stdout",
          "text": [
            "[10050.0, 4500.0, 13350.0, 3400.0, 5000.0]\n"
          ]
        }
      ]
    },
    {
      "cell_type": "code",
      "source": [
        "#list_name=[(boby of if) if (condition) else (boby of else iterator)]\n",
        "sal=[67000,45000,89000,34000,50000]\n",
        "tax=[i*0.1 if i<=50000 else i*0.15 for i in sal]\n",
        "print(tax)"
      ],
      "metadata": {
        "colab": {
          "base_uri": "https://localhost:8080/"
        },
        "id": "5D8CRTJmKbeA",
        "outputId": "b2ef937a-e300-4929-aa00-3a9f62e57fe2"
      },
      "execution_count": null,
      "outputs": [
        {
          "output_type": "stream",
          "name": "stdout",
          "text": [
            "[10050.0, 4500.0, 13350.0, 3400.0, 5000.0]\n"
          ]
        }
      ]
    }
  ]
}