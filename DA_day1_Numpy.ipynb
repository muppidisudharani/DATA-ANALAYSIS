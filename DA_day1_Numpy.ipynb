{
  "nbformat": 4,
  "nbformat_minor": 0,
  "metadata": {
    "colab": {
      "provenance": []
    },
    "kernelspec": {
      "name": "python3",
      "display_name": "Python 3"
    },
    "language_info": {
      "name": "python"
    }
  },
  "cells": [
    {
      "cell_type": "code",
      "execution_count": null,
      "metadata": {
        "id": "rSlM4rWZd9Aw"
      },
      "outputs": [],
      "source": [
        "#importing\n",
        "import numpy as np"
      ]
    },
    {
      "cell_type": "markdown",
      "source": [
        "Arrays\n"
      ],
      "metadata": {
        "id": "XTh6mPQLg6AE"
      }
    },
    {
      "cell_type": "code",
      "source": [
        "#creating 1D array\n",
        "A=np.array([1,2,3,4,5])\n",
        "print(type(A))"
      ],
      "metadata": {
        "colab": {
          "base_uri": "https://localhost:8080/"
        },
        "id": "T-dgqy9zgWfp",
        "outputId": "97df9159-a4a2-4a63-e7bf-83e532a48838"
      },
      "execution_count": null,
      "outputs": [
        {
          "output_type": "stream",
          "name": "stdout",
          "text": [
            "<class 'numpy.ndarray'>\n"
          ]
        }
      ]
    },
    {
      "cell_type": "code",
      "source": [
        "#creating a 2D array\n",
        "B=np.array([[2,3,4],[7,8,9]])\n",
        "print(B)"
      ],
      "metadata": {
        "colab": {
          "base_uri": "https://localhost:8080/"
        },
        "id": "SWc3rDzGhCey",
        "outputId": "47071ec2-be5a-4b6d-9383-77d8517f4583"
      },
      "execution_count": null,
      "outputs": [
        {
          "output_type": "stream",
          "name": "stdout",
          "text": [
            "[[2 3 4]\n",
            " [7 8 9]]\n"
          ]
        }
      ]
    },
    {
      "cell_type": "code",
      "source": [
        "#creating a 3D array\n",
        "C=np.array([[[2,3,4],[5,6,7]],[[1,8,9],[0,4,5]]])\n",
        "print(C)"
      ],
      "metadata": {
        "colab": {
          "base_uri": "https://localhost:8080/"
        },
        "id": "XBQlPCMghkWA",
        "outputId": "2abc37dc-5cbc-44dd-ee7b-300073abbdfa"
      },
      "execution_count": null,
      "outputs": [
        {
          "output_type": "stream",
          "name": "stdout",
          "text": [
            "[[[2 3 4]\n",
            "  [5 6 7]]\n",
            "\n",
            " [[1 8 9]\n",
            "  [0 4 5]]]\n"
          ]
        }
      ]
    },
    {
      "cell_type": "code",
      "source": [
        "#checking dimensions\n",
        "print(A.ndim)\n",
        "print(B.ndim)\n",
        "print(C.ndim)"
      ],
      "metadata": {
        "colab": {
          "base_uri": "https://localhost:8080/"
        },
        "id": "_PJJ-fGlmWsD",
        "outputId": "a21dd9f6-0186-4762-f148-fc5da8e27522"
      },
      "execution_count": null,
      "outputs": [
        {
          "output_type": "stream",
          "name": "stdout",
          "text": [
            "1\n",
            "2\n",
            "3\n"
          ]
        }
      ]
    },
    {
      "cell_type": "code",
      "source": [
        "D=np.ones((2,3,2)) #groups,row,columns,3D\n",
        "print(D)"
      ],
      "metadata": {
        "colab": {
          "base_uri": "https://localhost:8080/"
        },
        "id": "YgwgPWlklKlM",
        "outputId": "efedc7b4-0c1e-49bb-c6e0-12b618ba418b"
      },
      "execution_count": null,
      "outputs": [
        {
          "output_type": "stream",
          "name": "stdout",
          "text": [
            "[[[1. 1.]\n",
            "  [1. 1.]\n",
            "  [1. 1.]]\n",
            "\n",
            " [[1. 1.]\n",
            "  [1. 1.]\n",
            "  [1. 1.]]]\n"
          ]
        }
      ]
    },
    {
      "cell_type": "code",
      "source": [
        "#ones\n",
        "E=np.ones((3,2)) #rows,columns,2D\n",
        "print(E)"
      ],
      "metadata": {
        "colab": {
          "base_uri": "https://localhost:8080/"
        },
        "id": "lsjz7h-Bm6FQ",
        "outputId": "402e9b03-ec5a-45fa-f714-e598522d6344"
      },
      "execution_count": null,
      "outputs": [
        {
          "output_type": "stream",
          "name": "stdout",
          "text": [
            "[[1. 1.]\n",
            " [1. 1.]\n",
            " [1. 1.]]\n"
          ]
        }
      ]
    },
    {
      "cell_type": "code",
      "source": [
        "#Zeros\n",
        "F=np.zeros((3,2))  #2D\n",
        "print(F)"
      ],
      "metadata": {
        "colab": {
          "base_uri": "https://localhost:8080/"
        },
        "id": "_zLcy0onnjrp",
        "outputId": "e90ceaaf-3a9e-4505-ca27-ca9385e40227"
      },
      "execution_count": null,
      "outputs": [
        {
          "output_type": "stream",
          "name": "stdout",
          "text": [
            "[[0. 0.]\n",
            " [0. 0.]\n",
            " [0. 0.]]\n"
          ]
        }
      ]
    },
    {
      "cell_type": "code",
      "source": [
        "J=np.eye(4)\n",
        "print(J)"
      ],
      "metadata": {
        "colab": {
          "base_uri": "https://localhost:8080/"
        },
        "id": "mshidLlZoNA4",
        "outputId": "52b6b58c-9b40-446a-f5d0-f12a3cb47538"
      },
      "execution_count": null,
      "outputs": [
        {
          "output_type": "stream",
          "name": "stdout",
          "text": [
            "[[1. 0. 0. 0.]\n",
            " [0. 1. 0. 0.]\n",
            " [0. 0. 1. 0.]\n",
            " [0. 0. 0. 1.]]\n"
          ]
        }
      ]
    },
    {
      "cell_type": "code",
      "source": [
        "#arange\n",
        "H=np.arange(3,31,3) #start,stop,step\n",
        "print(H)"
      ],
      "metadata": {
        "colab": {
          "base_uri": "https://localhost:8080/"
        },
        "id": "8hHGPFnloxfx",
        "outputId": "25139a40-8291-4df1-933c-5a5da35cd09b"
      },
      "execution_count": null,
      "outputs": [
        {
          "output_type": "stream",
          "name": "stdout",
          "text": [
            "[ 3  6  9 12 15 18 21 24 27 30]\n"
          ]
        }
      ]
    },
    {
      "cell_type": "code",
      "source": [
        "#arange with reshape\n",
        "H=np.arange(3,31,3).reshape(5,2)\n",
        "print(H)\n"
      ],
      "metadata": {
        "colab": {
          "base_uri": "https://localhost:8080/"
        },
        "id": "bnuLUM64pFY_",
        "outputId": "c1a67f9c-e120-4bba-f3cb-b0eb047305c3"
      },
      "execution_count": null,
      "outputs": [
        {
          "output_type": "stream",
          "name": "stdout",
          "text": [
            "[[ 3  6]\n",
            " [ 9 12]\n",
            " [15 18]\n",
            " [21 24]\n",
            " [27 30]]\n"
          ]
        }
      ]
    },
    {
      "cell_type": "code",
      "source": [
        "V=np.linspace(12,24,10)\n",
        "print(V)"
      ],
      "metadata": {
        "colab": {
          "base_uri": "https://localhost:8080/"
        },
        "id": "a9S7vFp_ra2w",
        "outputId": "81e8621a-6d06-46ae-e39f-e48b3d3eebbf"
      },
      "execution_count": null,
      "outputs": [
        {
          "output_type": "stream",
          "name": "stdout",
          "text": [
            "[12.         13.33333333 14.66666667 16.         17.33333333 18.66666667\n",
            " 20.         21.33333333 22.66666667 24.        ]\n"
          ]
        }
      ]
    },
    {
      "cell_type": "code",
      "source": [
        "L=np.arange(1,7).reshape(2,3)\n",
        "print(L)\n",
        "R=np.arange(9,15).reshape(2,3)\n",
        "print(R)"
      ],
      "metadata": {
        "colab": {
          "base_uri": "https://localhost:8080/"
        },
        "id": "mE1kXiygrk1Y",
        "outputId": "609bca09-4fc3-458b-e89c-eae076e9c7c5"
      },
      "execution_count": null,
      "outputs": [
        {
          "output_type": "stream",
          "name": "stdout",
          "text": [
            "[[1 2 3]\n",
            " [4 5 6]]\n",
            "[[ 9 10 11]\n",
            " [12 13 14]]\n"
          ]
        }
      ]
    },
    {
      "cell_type": "code",
      "source": [
        "print(L+R)"
      ],
      "metadata": {
        "colab": {
          "base_uri": "https://localhost:8080/"
        },
        "id": "xziPZ_C6r_tJ",
        "outputId": "103a9cdd-2760-471f-e593-0bb18193da96"
      },
      "execution_count": null,
      "outputs": [
        {
          "output_type": "stream",
          "name": "stdout",
          "text": [
            "[[10 12 14]\n",
            " [16 18 20]]\n"
          ]
        }
      ]
    },
    {
      "cell_type": "code",
      "source": [
        "G=np.sum((L,R))\n",
        "print(G)"
      ],
      "metadata": {
        "colab": {
          "base_uri": "https://localhost:8080/"
        },
        "id": "nNyyjhSotCCY",
        "outputId": "5a993dd3-ad33-4c78-b318-ebea4b3ead83"
      },
      "execution_count": null,
      "outputs": [
        {
          "output_type": "stream",
          "name": "stdout",
          "text": [
            "90\n"
          ]
        }
      ]
    },
    {
      "cell_type": "code",
      "source": [
        "G=np.sum((L,R),axis=1)\n",
        "print(G)"
      ],
      "metadata": {
        "colab": {
          "base_uri": "https://localhost:8080/"
        },
        "id": "IaikzEj7u97m",
        "outputId": "83c18896-803d-4c51-a77b-077d218960de"
      },
      "execution_count": null,
      "outputs": [
        {
          "output_type": "stream",
          "name": "stdout",
          "text": [
            "[[ 5  7  9]\n",
            " [21 23 25]]\n"
          ]
        }
      ]
    },
    {
      "cell_type": "code",
      "source": [
        "M=np.linspace(1,2,6)\n",
        "print(M)"
      ],
      "metadata": {
        "colab": {
          "base_uri": "https://localhost:8080/"
        },
        "id": "kYjuHC4FuG2V",
        "outputId": "353ff436-54ad-4f29-a5bc-862c9fd455fa"
      },
      "execution_count": null,
      "outputs": [
        {
          "output_type": "stream",
          "name": "stdout",
          "text": [
            "[1.  1.2 1.4 1.6 1.8 2. ]\n"
          ]
        }
      ]
    },
    {
      "cell_type": "code",
      "source": [
        "h=np.ones((4,2))\n",
        "g=np.ones((4,2))\n",
        "print(np.sum((h,g),axis=0))"
      ],
      "metadata": {
        "colab": {
          "base_uri": "https://localhost:8080/"
        },
        "id": "yIyOvIsTxLpD",
        "outputId": "0d85c04b-d4af-4c74-8db0-8f7c51b604b7"
      },
      "execution_count": null,
      "outputs": [
        {
          "output_type": "stream",
          "name": "stdout",
          "text": [
            "[[2. 2.]\n",
            " [2. 2.]\n",
            " [2. 2.]\n",
            " [2. 2.]]\n"
          ]
        }
      ]
    },
    {
      "cell_type": "code",
      "source": [
        "A=np.array([[1,1],[0,1]])\n",
        "B=np.array([[2,0],[3,4]])\n",
        "print(A*B)"
      ],
      "metadata": {
        "colab": {
          "base_uri": "https://localhost:8080/"
        },
        "id": "SWu88pj8xoef",
        "outputId": "cffeac26-7dc2-45f4-8844-cac3a4e6b8e4"
      },
      "execution_count": null,
      "outputs": [
        {
          "output_type": "stream",
          "name": "stdout",
          "text": [
            "[[2 0]\n",
            " [0 4]]\n"
          ]
        }
      ]
    },
    {
      "cell_type": "code",
      "source": [
        "print(A@B)"
      ],
      "metadata": {
        "colab": {
          "base_uri": "https://localhost:8080/"
        },
        "id": "Ex4UARakyApg",
        "outputId": "c5eb0bdf-d400-4fad-b7ee-9468a55984e8"
      },
      "execution_count": null,
      "outputs": [
        {
          "output_type": "stream",
          "name": "stdout",
          "text": [
            "[[5 4]\n",
            " [3 4]]\n"
          ]
        }
      ]
    },
    {
      "cell_type": "code",
      "source": [
        "#b=np.array[25,289,361,81]  find square root and iterate through result values output 5 square is 25 by using np.sprt\n",
        "b=np.array([25,289,361,81])\n",
        "for i in b:\n",
        "  print(int(np.sqrt(i)),\"square is\",i)"
      ],
      "metadata": {
        "colab": {
          "base_uri": "https://localhost:8080/"
        },
        "id": "3PmE77Zg0UkN",
        "outputId": "842c8b9f-9635-4780-f201-7137b7f59d73"
      },
      "execution_count": null,
      "outputs": [
        {
          "output_type": "stream",
          "name": "stdout",
          "text": [
            "5 square is 25\n",
            "17 square is 289\n",
            "19 square is 361\n",
            "9 square is 81\n"
          ]
        }
      ]
    },
    {
      "cell_type": "markdown",
      "source": [
        "Array joining"
      ],
      "metadata": {
        "id": "3S70aNEu7fCB"
      }
    },
    {
      "cell_type": "code",
      "source": [
        "a=np.array([34,35,36,37,38,39])\n",
        "a.resize(2,3)\n",
        "b=np.array([4,5,6,7,8,9])\n",
        "b.resize(2,3)\n",
        "print(np.vstack((a,b)))\n",
        "print(\"\\n\")\n",
        "print(np.hstack((a,b)))"
      ],
      "metadata": {
        "colab": {
          "base_uri": "https://localhost:8080/"
        },
        "id": "pnK0GvIC58iU",
        "outputId": "61855cc8-eb35-47b8-96b5-2bbe27748cc9"
      },
      "execution_count": null,
      "outputs": [
        {
          "output_type": "stream",
          "name": "stdout",
          "text": [
            "[[34 35 36]\n",
            " [37 38 39]\n",
            " [ 4  5  6]\n",
            " [ 7  8  9]]\n",
            "\n",
            "\n",
            "[[34 35 36  4  5  6]\n",
            " [37 38 39  7  8  9]]\n"
          ]
        }
      ]
    },
    {
      "cell_type": "code",
      "source": [
        "a=np.arange(30).reshape(2,3,5)\n",
        "print(a)\n",
        "print(\"output of dstack\")\n",
        "print(np.dstack(a))\n",
        "#no.of rows becomes no.of groups\n",
        "#columns becomes rows\n",
        "#group becomes columns"
      ],
      "metadata": {
        "colab": {
          "base_uri": "https://localhost:8080/"
        },
        "id": "z0xcnKKR9YmA",
        "outputId": "34d44e2b-c1e5-41ae-9c51-1443917b8a51"
      },
      "execution_count": null,
      "outputs": [
        {
          "output_type": "stream",
          "name": "stdout",
          "text": [
            "[[[ 0  1  2  3  4]\n",
            "  [ 5  6  7  8  9]\n",
            "  [10 11 12 13 14]]\n",
            "\n",
            " [[15 16 17 18 19]\n",
            "  [20 21 22 23 24]\n",
            "  [25 26 27 28 29]]]\n",
            "output of dstack\n",
            "[[[ 0 15]\n",
            "  [ 1 16]\n",
            "  [ 2 17]\n",
            "  [ 3 18]\n",
            "  [ 4 19]]\n",
            "\n",
            " [[ 5 20]\n",
            "  [ 6 21]\n",
            "  [ 7 22]\n",
            "  [ 8 23]\n",
            "  [ 9 24]]\n",
            "\n",
            " [[10 25]\n",
            "  [11 26]\n",
            "  [12 27]\n",
            "  [13 28]\n",
            "  [14 29]]]\n"
          ]
        }
      ]
    }
  ]
}