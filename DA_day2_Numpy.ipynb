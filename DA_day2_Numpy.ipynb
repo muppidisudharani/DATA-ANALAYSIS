{
  "nbformat": 4,
  "nbformat_minor": 0,
  "metadata": {
    "colab": {
      "provenance": []
    },
    "kernelspec": {
      "name": "python3",
      "display_name": "Python 3"
    },
    "language_info": {
      "name": "python"
    }
  },
  "cells": [
    {
      "cell_type": "code",
      "source": [
        "import numpy  as np\n",
        "#RANDAM MODULE IS SUB-PACKAGE OF NUMPY"
      ],
      "metadata": {
        "id": "5pYlZscosAXF"
      },
      "execution_count": null,
      "outputs": []
    },
    {
      "cell_type": "code",
      "source": [
        "a=np.random.rand(1)\n",
        "print(a)"
      ],
      "metadata": {
        "colab": {
          "base_uri": "https://localhost:8080/"
        },
        "id": "sBXa7f4bttKE",
        "outputId": "b4c684c1-91c0-4125-e7c8-65b818cf6c26"
      },
      "execution_count": null,
      "outputs": [
        {
          "output_type": "stream",
          "name": "stdout",
          "text": [
            "[0.4129954]\n"
          ]
        }
      ]
    },
    {
      "cell_type": "code",
      "source": [
        "a=np.random.rand(8,4) #rand-range is between 0 and 1\n",
        "print(a)"
      ],
      "metadata": {
        "colab": {
          "base_uri": "https://localhost:8080/"
        },
        "id": "cuoJoCTLs7bX",
        "outputId": "6f738bac-9ccb-4f28-dde6-a1905d13b218"
      },
      "execution_count": null,
      "outputs": [
        {
          "output_type": "stream",
          "name": "stdout",
          "text": [
            "[[0.65696219 0.6252774  0.45638244 0.78787952]\n",
            " [0.3636599  0.75503307 0.33269468 0.40288753]\n",
            " [0.49681613 0.34504055 0.54629866 0.85292634]\n",
            " [0.77313864 0.61875156 0.47890893 0.29071772]\n",
            " [0.7220594  0.98253707 0.18198261 0.60378397]\n",
            " [0.90106562 0.13138791 0.57771064 0.76532208]\n",
            " [0.81810156 0.0240736  0.87366381 0.15627585]\n",
            " [0.84754495 0.48981142 0.33568782 0.62718476]]\n"
          ]
        }
      ]
    },
    {
      "cell_type": "code",
      "source": [
        "a=10*np.random.rand(8,4)\n",
        "print(a)"
      ],
      "metadata": {
        "colab": {
          "base_uri": "https://localhost:8080/"
        },
        "id": "sAKoweWrvMH0",
        "outputId": "5b90e82d-e46d-4425-a73e-61a41f16adb4"
      },
      "execution_count": null,
      "outputs": [
        {
          "output_type": "stream",
          "name": "stdout",
          "text": [
            "[[8.37617037 4.72950721 1.52030707 2.8164432 ]\n",
            " [0.81801283 8.07224151 5.72863299 6.99109457]\n",
            " [9.22744077 3.06446052 5.61352504 4.14330556]\n",
            " [8.94177903 6.19193876 7.21473033 4.91645671]\n",
            " [7.9135338  4.25452468 4.44628901 9.52720598]\n",
            " [4.13467272 0.74987654 5.65983442 6.06716923]\n",
            " [4.1720303  7.17961804 8.22108265 0.21707023]\n",
            " [6.77830939 2.71120785 3.57534116 9.14136424]]\n"
          ]
        }
      ]
    },
    {
      "cell_type": "code",
      "source": [
        "a=np.eye(4,8)\n",
        "print(a)"
      ],
      "metadata": {
        "colab": {
          "base_uri": "https://localhost:8080/"
        },
        "id": "YQjRfd7auGeK",
        "outputId": "ec1cccba-98fc-4c57-d349-b2a4004ce109"
      },
      "execution_count": null,
      "outputs": [
        {
          "output_type": "stream",
          "name": "stdout",
          "text": [
            "[[1. 0. 0. 0. 0. 0. 0. 0.]\n",
            " [0. 1. 0. 0. 0. 0. 0. 0.]\n",
            " [0. 0. 1. 0. 0. 0. 0. 0.]\n",
            " [0. 0. 0. 1. 0. 0. 0. 0.]]\n"
          ]
        }
      ]
    },
    {
      "cell_type": "code",
      "source": [
        "a=np.floor(10*np.random.rand(8,4))\n",
        "print(a)"
      ],
      "metadata": {
        "colab": {
          "base_uri": "https://localhost:8080/"
        },
        "id": "vPU1x7qYvjhO",
        "outputId": "bc5c0bca-c572-4007-9df1-d666d926453a"
      },
      "execution_count": null,
      "outputs": [
        {
          "output_type": "stream",
          "name": "stdout",
          "text": [
            "[[0. 8. 9. 4.]\n",
            " [3. 8. 1. 0.]\n",
            " [8. 3. 8. 6.]\n",
            " [6. 6. 1. 9.]\n",
            " [4. 4. 6. 8.]\n",
            " [9. 2. 7. 7.]\n",
            " [3. 8. 8. 2.]\n",
            " [1. 9. 7. 9.]]\n"
          ]
        }
      ]
    },
    {
      "cell_type": "code",
      "source": [
        "A=np.arange(1,33).reshape(8,4)\n",
        "print(A)"
      ],
      "metadata": {
        "colab": {
          "base_uri": "https://localhost:8080/"
        },
        "id": "JZTKvoYgv-Zx",
        "outputId": "51903a67-a806-4c79-b9ac-c4fb4712d47c"
      },
      "execution_count": null,
      "outputs": [
        {
          "output_type": "stream",
          "name": "stdout",
          "text": [
            "[[ 1  2  3  4]\n",
            " [ 5  6  7  8]\n",
            " [ 9 10 11 12]\n",
            " [13 14 15 16]\n",
            " [17 18 19 20]\n",
            " [21 22 23 24]\n",
            " [25 26 27 28]\n",
            " [29 30 31 32]]\n"
          ]
        }
      ]
    },
    {
      "cell_type": "code",
      "source": [
        "np.vsplit(A,4) #vsplit split the array from top to bottom"
      ],
      "metadata": {
        "colab": {
          "base_uri": "https://localhost:8080/"
        },
        "id": "Mu28hCINw67a",
        "outputId": "bacc5243-2250-4bdc-d8b3-0733846680d8"
      },
      "execution_count": null,
      "outputs": [
        {
          "output_type": "execute_result",
          "data": {
            "text/plain": [
              "[array([[1, 2, 3, 4],\n",
              "        [5, 6, 7, 8]]),\n",
              " array([[ 9, 10, 11, 12],\n",
              "        [13, 14, 15, 16]]),\n",
              " array([[17, 18, 19, 20],\n",
              "        [21, 22, 23, 24]]),\n",
              " array([[25, 26, 27, 28],\n",
              "        [29, 30, 31, 32]])]"
            ]
          },
          "metadata": {},
          "execution_count": 15
        }
      ]
    },
    {
      "cell_type": "code",
      "source": [
        "np.vsplit(A,3)"
      ],
      "metadata": {
        "colab": {
          "base_uri": "https://localhost:8080/",
          "height": 321
        },
        "id": "NOaa9ZxqzklB",
        "outputId": "8567d041-0096-4ff0-81c6-0d6d8e5b6f4f"
      },
      "execution_count": null,
      "outputs": [
        {
          "output_type": "error",
          "ename": "ValueError",
          "evalue": "array split does not result in an equal division",
          "traceback": [
            "\u001b[0;31m---------------------------------------------------------------------------\u001b[0m",
            "\u001b[0;31mValueError\u001b[0m                                Traceback (most recent call last)",
            "\u001b[0;32m<ipython-input-19-bf600901fad4>\u001b[0m in \u001b[0;36m<cell line: 1>\u001b[0;34m()\u001b[0m\n\u001b[0;32m----> 1\u001b[0;31m \u001b[0mnp\u001b[0m\u001b[0;34m.\u001b[0m\u001b[0mvsplit\u001b[0m\u001b[0;34m(\u001b[0m\u001b[0mA\u001b[0m\u001b[0;34m,\u001b[0m\u001b[0;36m3\u001b[0m\u001b[0;34m)\u001b[0m\u001b[0;34m\u001b[0m\u001b[0;34m\u001b[0m\u001b[0m\n\u001b[0m",
            "\u001b[0;32m/usr/local/lib/python3.10/dist-packages/numpy/core/overrides.py\u001b[0m in \u001b[0;36mvsplit\u001b[0;34m(*args, **kwargs)\u001b[0m\n",
            "\u001b[0;32m/usr/local/lib/python3.10/dist-packages/numpy/lib/shape_base.py\u001b[0m in \u001b[0;36mvsplit\u001b[0;34m(ary, indices_or_sections)\u001b[0m\n\u001b[1;32m    995\u001b[0m     \u001b[0;32mif\u001b[0m \u001b[0m_nx\u001b[0m\u001b[0;34m.\u001b[0m\u001b[0mndim\u001b[0m\u001b[0;34m(\u001b[0m\u001b[0mary\u001b[0m\u001b[0;34m)\u001b[0m \u001b[0;34m<\u001b[0m \u001b[0;36m2\u001b[0m\u001b[0;34m:\u001b[0m\u001b[0;34m\u001b[0m\u001b[0;34m\u001b[0m\u001b[0m\n\u001b[1;32m    996\u001b[0m         \u001b[0;32mraise\u001b[0m \u001b[0mValueError\u001b[0m\u001b[0;34m(\u001b[0m\u001b[0;34m'vsplit only works on arrays of 2 or more dimensions'\u001b[0m\u001b[0;34m)\u001b[0m\u001b[0;34m\u001b[0m\u001b[0;34m\u001b[0m\u001b[0m\n\u001b[0;32m--> 997\u001b[0;31m     \u001b[0;32mreturn\u001b[0m \u001b[0msplit\u001b[0m\u001b[0;34m(\u001b[0m\u001b[0mary\u001b[0m\u001b[0;34m,\u001b[0m \u001b[0mindices_or_sections\u001b[0m\u001b[0;34m,\u001b[0m \u001b[0;36m0\u001b[0m\u001b[0;34m)\u001b[0m\u001b[0;34m\u001b[0m\u001b[0;34m\u001b[0m\u001b[0m\n\u001b[0m\u001b[1;32m    998\u001b[0m \u001b[0;34m\u001b[0m\u001b[0m\n\u001b[1;32m    999\u001b[0m \u001b[0;34m\u001b[0m\u001b[0m\n",
            "\u001b[0;32m/usr/local/lib/python3.10/dist-packages/numpy/core/overrides.py\u001b[0m in \u001b[0;36msplit\u001b[0;34m(*args, **kwargs)\u001b[0m\n",
            "\u001b[0;32m/usr/local/lib/python3.10/dist-packages/numpy/lib/shape_base.py\u001b[0m in \u001b[0;36msplit\u001b[0;34m(ary, indices_or_sections, axis)\u001b[0m\n\u001b[1;32m    870\u001b[0m         \u001b[0mN\u001b[0m \u001b[0;34m=\u001b[0m \u001b[0mary\u001b[0m\u001b[0;34m.\u001b[0m\u001b[0mshape\u001b[0m\u001b[0;34m[\u001b[0m\u001b[0maxis\u001b[0m\u001b[0;34m]\u001b[0m\u001b[0;34m\u001b[0m\u001b[0;34m\u001b[0m\u001b[0m\n\u001b[1;32m    871\u001b[0m         \u001b[0;32mif\u001b[0m \u001b[0mN\u001b[0m \u001b[0;34m%\u001b[0m \u001b[0msections\u001b[0m\u001b[0;34m:\u001b[0m\u001b[0;34m\u001b[0m\u001b[0;34m\u001b[0m\u001b[0m\n\u001b[0;32m--> 872\u001b[0;31m             raise ValueError(\n\u001b[0m\u001b[1;32m    873\u001b[0m                 'array split does not result in an equal division') from None\n\u001b[1;32m    874\u001b[0m     \u001b[0;32mreturn\u001b[0m \u001b[0marray_split\u001b[0m\u001b[0;34m(\u001b[0m\u001b[0mary\u001b[0m\u001b[0;34m,\u001b[0m \u001b[0mindices_or_sections\u001b[0m\u001b[0;34m,\u001b[0m \u001b[0maxis\u001b[0m\u001b[0;34m)\u001b[0m\u001b[0;34m\u001b[0m\u001b[0;34m\u001b[0m\u001b[0m\n",
            "\u001b[0;31mValueError\u001b[0m: array split does not result in an equal division"
          ]
        }
      ]
    },
    {
      "cell_type": "code",
      "source": [
        "np.vsplit(A,(2,7))"
      ],
      "metadata": {
        "colab": {
          "base_uri": "https://localhost:8080/"
        },
        "id": "gPeGeWZZx0Iz",
        "outputId": "58a90abf-3d87-4108-921f-b234a473fdc5"
      },
      "execution_count": null,
      "outputs": [
        {
          "output_type": "execute_result",
          "data": {
            "text/plain": [
              "[array([[1, 2, 3, 4],\n",
              "        [5, 6, 7, 8]]),\n",
              " array([[ 9, 10, 11, 12],\n",
              "        [13, 14, 15, 16],\n",
              "        [17, 18, 19, 20],\n",
              "        [21, 22, 23, 24],\n",
              "        [25, 26, 27, 28]]),\n",
              " array([[29, 30, 31, 32]])]"
            ]
          },
          "metadata": {},
          "execution_count": 17
        }
      ]
    },
    {
      "cell_type": "code",
      "source": [
        "np.vsplit(A,(3,5)) #spilt it after 3-row and 5-row"
      ],
      "metadata": {
        "colab": {
          "base_uri": "https://localhost:8080/"
        },
        "id": "WGtEKmksyjg0",
        "outputId": "3625e435-82b5-478f-f547-151ef22a5077"
      },
      "execution_count": null,
      "outputs": [
        {
          "output_type": "execute_result",
          "data": {
            "text/plain": [
              "[array([[ 1,  2,  3,  4],\n",
              "        [ 5,  6,  7,  8],\n",
              "        [ 9, 10, 11, 12]]),\n",
              " array([[13, 14, 15, 16],\n",
              "        [17, 18, 19, 20]]),\n",
              " array([[21, 22, 23, 24],\n",
              "        [25, 26, 27, 28],\n",
              "        [29, 30, 31, 32]])]"
            ]
          },
          "metadata": {},
          "execution_count": 18
        }
      ]
    },
    {
      "cell_type": "code",
      "source": [
        "a=np.arange(1,33).reshape(4,8)\n",
        "print(a)"
      ],
      "metadata": {
        "colab": {
          "base_uri": "https://localhost:8080/"
        },
        "id": "Ye5a642nzqPo",
        "outputId": "b57748ef-d32b-43b5-8281-ed54cffd3fd6"
      },
      "execution_count": null,
      "outputs": [
        {
          "output_type": "stream",
          "name": "stdout",
          "text": [
            "[[ 1  2  3  4  5  6  7  8]\n",
            " [ 9 10 11 12 13 14 15 16]\n",
            " [17 18 19 20 21 22 23 24]\n",
            " [25 26 27 28 29 30 31 32]]\n"
          ]
        }
      ]
    },
    {
      "cell_type": "code",
      "source": [
        "np.hsplit(a,4) #spliting takes frome left to right"
      ],
      "metadata": {
        "colab": {
          "base_uri": "https://localhost:8080/"
        },
        "id": "_-daTDiA0BaS",
        "outputId": "9b2bd30e-4633-49cb-9945-02da50b04819"
      },
      "execution_count": null,
      "outputs": [
        {
          "output_type": "execute_result",
          "data": {
            "text/plain": [
              "[array([[ 1,  2],\n",
              "        [ 9, 10],\n",
              "        [17, 18],\n",
              "        [25, 26]]),\n",
              " array([[ 3,  4],\n",
              "        [11, 12],\n",
              "        [19, 20],\n",
              "        [27, 28]]),\n",
              " array([[ 5,  6],\n",
              "        [13, 14],\n",
              "        [21, 22],\n",
              "        [29, 30]]),\n",
              " array([[ 7,  8],\n",
              "        [15, 16],\n",
              "        [23, 24],\n",
              "        [31, 32]])]"
            ]
          },
          "metadata": {},
          "execution_count": 22
        }
      ]
    },
    {
      "cell_type": "code",
      "source": [
        "np.hsplit(a,(3,7)) #spliting takes place after 3rd column and 7th column"
      ],
      "metadata": {
        "colab": {
          "base_uri": "https://localhost:8080/"
        },
        "id": "o_pAmPX10x-U",
        "outputId": "03ac0482-a759-4923-8974-ba25b8ec6a20"
      },
      "execution_count": null,
      "outputs": [
        {
          "output_type": "execute_result",
          "data": {
            "text/plain": [
              "[array([[ 1,  2,  3],\n",
              "        [ 9, 10, 11],\n",
              "        [17, 18, 19],\n",
              "        [25, 26, 27]]),\n",
              " array([[ 4,  5,  6,  7],\n",
              "        [12, 13, 14, 15],\n",
              "        [20, 21, 22, 23],\n",
              "        [28, 29, 30, 31]]),\n",
              " array([[ 8],\n",
              "        [16],\n",
              "        [24],\n",
              "        [32]])]"
            ]
          },
          "metadata": {},
          "execution_count": 23
        }
      ]
    },
    {
      "cell_type": "code",
      "source": [
        "np.hsplit(a,(2,5))"
      ],
      "metadata": {
        "colab": {
          "base_uri": "https://localhost:8080/"
        },
        "id": "v5XpT0Sc20nm",
        "outputId": "87473ec7-85a3-41c7-b451-f82a15a8e849"
      },
      "execution_count": null,
      "outputs": [
        {
          "output_type": "execute_result",
          "data": {
            "text/plain": [
              "[array([[ 1,  2],\n",
              "        [ 9, 10],\n",
              "        [17, 18],\n",
              "        [25, 26]]),\n",
              " array([[ 3,  4,  5],\n",
              "        [11, 12, 13],\n",
              "        [19, 20, 21],\n",
              "        [27, 28, 29]]),\n",
              " array([[ 6,  7,  8],\n",
              "        [14, 15, 16],\n",
              "        [22, 23, 24],\n",
              "        [30, 31, 32]])]"
            ]
          },
          "metadata": {},
          "execution_count": 24
        }
      ]
    },
    {
      "cell_type": "markdown",
      "source": [
        "Trignometry"
      ],
      "metadata": {
        "id": "bL2PAyER3ieH"
      }
    },
    {
      "cell_type": "code",
      "source": [
        "np.pi"
      ],
      "metadata": {
        "colab": {
          "base_uri": "https://localhost:8080/"
        },
        "id": "u0RpIdCp3rf9",
        "outputId": "3eb9c23d-989e-46e3-ca48-6a13504cca42"
      },
      "execution_count": null,
      "outputs": [
        {
          "output_type": "execute_result",
          "data": {
            "text/plain": [
              "3.141592653589793"
            ]
          },
          "metadata": {},
          "execution_count": 25
        }
      ]
    },
    {
      "cell_type": "code",
      "source": [
        "A=[np.pi/4,np.pi/3,np.pi/2,np.pi]\n",
        "print(A)"
      ],
      "metadata": {
        "colab": {
          "base_uri": "https://localhost:8080/"
        },
        "id": "3tkaqBds3_7b",
        "outputId": "c32a9f09-8910-452c-feb8-1c94a578d063"
      },
      "execution_count": null,
      "outputs": [
        {
          "output_type": "stream",
          "name": "stdout",
          "text": [
            "[0.7853981633974483, 1.0471975511965976, 1.5707963267948966, 3.141592653589793]\n"
          ]
        }
      ]
    },
    {
      "cell_type": "code",
      "source": [
        "B=np.rad2deg(A) #convert radians to degrees"
      ],
      "metadata": {
        "id": "sa5NLCeD4YCm"
      },
      "execution_count": null,
      "outputs": []
    },
    {
      "cell_type": "code",
      "source": [
        "np.deg2rad(B) #convert degrees to radians"
      ],
      "metadata": {
        "colab": {
          "base_uri": "https://localhost:8080/"
        },
        "id": "hugxAa0V4uVp",
        "outputId": "000d81ef-fdca-492e-f6e8-dcb6c5dcceb3"
      },
      "execution_count": null,
      "outputs": [
        {
          "output_type": "execute_result",
          "data": {
            "text/plain": [
              "array([0.78539816, 1.04719755, 1.57079633, 3.14159265])"
            ]
          },
          "metadata": {},
          "execution_count": 29
        }
      ]
    },
    {
      "cell_type": "code",
      "source": [
        "np.sin(1) #radians"
      ],
      "metadata": {
        "colab": {
          "base_uri": "https://localhost:8080/"
        },
        "id": "VY00n_TD51nR",
        "outputId": "9b9a4b0d-90e0-480f-9ab1-d3a56fa96198"
      },
      "execution_count": null,
      "outputs": [
        {
          "output_type": "execute_result",
          "data": {
            "text/plain": [
              "0.8414709848078965"
            ]
          },
          "metadata": {},
          "execution_count": 30
        }
      ]
    },
    {
      "cell_type": "code",
      "source": [
        "np.cos(1) #radians"
      ],
      "metadata": {
        "colab": {
          "base_uri": "https://localhost:8080/"
        },
        "id": "aVQwLIPT6BdU",
        "outputId": "e020c804-1c29-4bab-d2be-efdbf1705161"
      },
      "execution_count": null,
      "outputs": [
        {
          "output_type": "execute_result",
          "data": {
            "text/plain": [
              "0.5403023058681398"
            ]
          },
          "metadata": {},
          "execution_count": 31
        }
      ]
    },
    {
      "cell_type": "code",
      "source": [
        "np.tan(1)"
      ],
      "metadata": {
        "colab": {
          "base_uri": "https://localhost:8080/"
        },
        "id": "A0q-pmWT6Heq",
        "outputId": "74558e8c-ee37-4825-d519-eda2f3b6ff30"
      },
      "execution_count": null,
      "outputs": [
        {
          "output_type": "execute_result",
          "data": {
            "text/plain": [
              "1.5574077246549023"
            ]
          },
          "metadata": {},
          "execution_count": 32
        }
      ]
    },
    {
      "cell_type": "markdown",
      "source": [
        "statistics"
      ],
      "metadata": {
        "id": "aoLdHXAt6goC"
      }
    },
    {
      "cell_type": "code",
      "source": [
        "st=np.array([23,45,67,89,21,34])"
      ],
      "metadata": {
        "id": "CF8Z2Fyr6kss"
      },
      "execution_count": null,
      "outputs": []
    },
    {
      "cell_type": "code",
      "source": [
        "np.mean(st)"
      ],
      "metadata": {
        "colab": {
          "base_uri": "https://localhost:8080/"
        },
        "id": "Uab-2v_Z60fJ",
        "outputId": "c72e6ebd-d1bf-4203-8982-f2c4b5bedbdf"
      },
      "execution_count": null,
      "outputs": [
        {
          "output_type": "execute_result",
          "data": {
            "text/plain": [
              "46.5"
            ]
          },
          "metadata": {},
          "execution_count": 34
        }
      ]
    },
    {
      "cell_type": "code",
      "source": [
        "np.median(st)"
      ],
      "metadata": {
        "colab": {
          "base_uri": "https://localhost:8080/"
        },
        "id": "KR7VxjWC7IhV",
        "outputId": "e19ec42a-df89-4aa5-f62d-e257498dee8f"
      },
      "execution_count": null,
      "outputs": [
        {
          "output_type": "execute_result",
          "data": {
            "text/plain": [
              "39.5"
            ]
          },
          "metadata": {},
          "execution_count": 35
        }
      ]
    },
    {
      "cell_type": "code",
      "source": [
        "np.std(st)"
      ],
      "metadata": {
        "colab": {
          "base_uri": "https://localhost:8080/"
        },
        "id": "4SF08spl7jbA",
        "outputId": "06a5ae0c-6436-44c1-bd5e-1a2814ab1baa"
      },
      "execution_count": null,
      "outputs": [
        {
          "output_type": "execute_result",
          "data": {
            "text/plain": [
              "24.452334585202017"
            ]
          },
          "metadata": {},
          "execution_count": 36
        }
      ]
    },
    {
      "cell_type": "code",
      "source": [
        "np.var(st)"
      ],
      "metadata": {
        "colab": {
          "base_uri": "https://localhost:8080/"
        },
        "id": "2CEY95so80NN",
        "outputId": "edb34530-2f10-4694-ba3c-8c686d5473d5"
      },
      "execution_count": null,
      "outputs": [
        {
          "output_type": "execute_result",
          "data": {
            "text/plain": [
              "597.9166666666666"
            ]
          },
          "metadata": {},
          "execution_count": 37
        }
      ]
    },
    {
      "cell_type": "code",
      "source": [
        "C=np.arange(1,5).reshape(2,2)\n",
        "print(C)"
      ],
      "metadata": {
        "colab": {
          "base_uri": "https://localhost:8080/"
        },
        "id": "7u8v0jcd_H0g",
        "outputId": "859381c6-08a1-4a08-c9a6-9f274b84d9dc"
      },
      "execution_count": null,
      "outputs": [
        {
          "output_type": "stream",
          "name": "stdout",
          "text": [
            "[[1 2]\n",
            " [3 4]]\n"
          ]
        }
      ]
    },
    {
      "cell_type": "code",
      "source": [
        "np.linalg.inv(C) #for inverse matrix"
      ],
      "metadata": {
        "colab": {
          "base_uri": "https://localhost:8080/"
        },
        "id": "J2ke9pZ5-zHr",
        "outputId": "c96ced55-080f-4fab-8f9b-38f0b4a41d84"
      },
      "execution_count": null,
      "outputs": [
        {
          "output_type": "execute_result",
          "data": {
            "text/plain": [
              "array([[-2. ,  1. ],\n",
              "       [ 1.5, -0.5]])"
            ]
          },
          "metadata": {},
          "execution_count": 40
        }
      ]
    },
    {
      "cell_type": "code",
      "source": [
        "C=np.floor( 10*np.random.rand(24).reshape(6,4))\n",
        "print(C)"
      ],
      "metadata": {
        "colab": {
          "base_uri": "https://localhost:8080/"
        },
        "id": "opYkQZff__YB",
        "outputId": "4b71d1b4-1058-49e8-c999-8022155caa07"
      },
      "execution_count": null,
      "outputs": [
        {
          "output_type": "stream",
          "name": "stdout",
          "text": [
            "[[2. 6. 2. 0.]\n",
            " [8. 7. 5. 4.]\n",
            " [4. 8. 5. 5.]\n",
            " [0. 1. 0. 3.]\n",
            " [1. 0. 5. 2.]\n",
            " [5. 1. 0. 2.]]\n"
          ]
        }
      ]
    },
    {
      "cell_type": "code",
      "source": [
        "print(np.argmax(C))"
      ],
      "metadata": {
        "colab": {
          "base_uri": "https://localhost:8080/"
        },
        "id": "NMdMgNVQAPAe",
        "outputId": "5f7f00b3-ea48-41fa-f3a4-be033fad35c6"
      },
      "execution_count": null,
      "outputs": [
        {
          "output_type": "stream",
          "name": "stdout",
          "text": [
            "4\n"
          ]
        }
      ]
    },
    {
      "cell_type": "code",
      "source": [
        "C= 10*np.random.rand(24).reshape(6,4)\n",
        "print(C)"
      ],
      "metadata": {
        "colab": {
          "base_uri": "https://localhost:8080/"
        },
        "id": "AeINL2TkBVif",
        "outputId": "57c21382-b472-4d24-b682-4a58e6652d5d"
      },
      "execution_count": null,
      "outputs": [
        {
          "output_type": "stream",
          "name": "stdout",
          "text": [
            "[[4.50025637 2.29861147 1.90094326 6.17399701]\n",
            " [0.0916677  6.35301816 2.56821765 8.22641779]\n",
            " [2.57067468 1.53460763 4.20516874 8.80319893]\n",
            " [6.43852647 0.52884109 4.33261296 8.22968635]\n",
            " [4.97501296 2.46955349 3.29256969 3.89960337]\n",
            " [2.85461246 7.68971909 1.01353437 6.14318265]]\n"
          ]
        }
      ]
    },
    {
      "cell_type": "code",
      "source": [
        "print(np.argmax(C))"
      ],
      "metadata": {
        "colab": {
          "base_uri": "https://localhost:8080/"
        },
        "id": "DyjoSPuVBjd6",
        "outputId": "530b941f-b539-4267-f2e2-37cc18d62171"
      },
      "execution_count": null,
      "outputs": [
        {
          "output_type": "stream",
          "name": "stdout",
          "text": [
            "11\n"
          ]
        }
      ]
    },
    {
      "cell_type": "code",
      "source": [
        "print(np.argmax(C,axis =1))"
      ],
      "metadata": {
        "colab": {
          "base_uri": "https://localhost:8080/"
        },
        "id": "nYgFjfm2Cd8f",
        "outputId": "5aa5e098-2da2-45c3-fcdb-c182d6f01b34"
      },
      "execution_count": null,
      "outputs": [
        {
          "output_type": "stream",
          "name": "stdout",
          "text": [
            "[3 3 3 3 0 1]\n"
          ]
        }
      ]
    },
    {
      "cell_type": "code",
      "source": [
        "print(np.argmax(C,axis =0))"
      ],
      "metadata": {
        "colab": {
          "base_uri": "https://localhost:8080/"
        },
        "id": "1w2GC_fSDc1I",
        "outputId": "88d0ac65-92e0-42af-a905-d2492a171640"
      },
      "execution_count": null,
      "outputs": [
        {
          "output_type": "stream",
          "name": "stdout",
          "text": [
            "[3 5 3 2]\n"
          ]
        }
      ]
    },
    {
      "cell_type": "code",
      "source": [
        "print(np.argmin(C,axis =1))"
      ],
      "metadata": {
        "colab": {
          "base_uri": "https://localhost:8080/"
        },
        "id": "HBhaVQ-6EVh1",
        "outputId": "a847e639-f5bd-4235-8fa2-78fc21eec48d"
      },
      "execution_count": null,
      "outputs": [
        {
          "output_type": "stream",
          "name": "stdout",
          "text": [
            "[2 0 1 1 1 2]\n"
          ]
        }
      ]
    },
    {
      "cell_type": "code",
      "source": [
        "print(np.argmin(C,axis =0))"
      ],
      "metadata": {
        "colab": {
          "base_uri": "https://localhost:8080/"
        },
        "id": "Ub5Hvz7cEnD3",
        "outputId": "0afc6c90-aed4-445c-8ef7-4d48fdb9fe3f"
      },
      "execution_count": null,
      "outputs": [
        {
          "output_type": "stream",
          "name": "stdout",
          "text": [
            "[1 3 5 4]\n"
          ]
        }
      ]
    },
    {
      "cell_type": "markdown",
      "source": [
        "searching"
      ],
      "metadata": {
        "id": "PidL9_m7FSSn"
      }
    },
    {
      "cell_type": "code",
      "source": [
        "a=np.array([34,56,7,17,88,91])\n",
        "print(np.where(a%2==0))\n",
        "print(np.where(a%2==1))"
      ],
      "metadata": {
        "colab": {
          "base_uri": "https://localhost:8080/"
        },
        "id": "DXA74iFiFqyT",
        "outputId": "b3d00e73-c113-4b93-bc7a-216d1f70a548"
      },
      "execution_count": null,
      "outputs": [
        {
          "output_type": "stream",
          "name": "stdout",
          "text": [
            "(array([0, 1, 4]),)\n",
            "(array([2, 3, 5]),)\n"
          ]
        }
      ]
    },
    {
      "cell_type": "code",
      "source": [
        "a=np.array([24,16,7,17,54,60])\n",
        "print(np.where(a%6==0))"
      ],
      "metadata": {
        "colab": {
          "base_uri": "https://localhost:8080/"
        },
        "id": "RfGKHdgkGt6P",
        "outputId": "d33625b2-52b5-401b-843c-a86cb77bfe65"
      },
      "execution_count": null,
      "outputs": [
        {
          "output_type": "stream",
          "name": "stdout",
          "text": [
            "(array([0, 4, 5]),)\n"
          ]
        }
      ]
    },
    {
      "cell_type": "code",
      "source": [
        "a=np.array([6,7,8,9,10])\n",
        "X=np.searchsorted(a,10)\n",
        "print(X)"
      ],
      "metadata": {
        "colab": {
          "base_uri": "https://localhost:8080/"
        },
        "id": "hfztDLh7Hl6s",
        "outputId": "fae164f9-e6f7-4622-a913-f98ade0bee19"
      },
      "execution_count": null,
      "outputs": [
        {
          "output_type": "stream",
          "name": "stdout",
          "text": [
            "4\n"
          ]
        }
      ]
    },
    {
      "cell_type": "code",
      "source": [
        "a=np.array([6,7,8,3,10])\n",
        "X=np.searchsorted(a,3)\n",
        "print(X)"
      ],
      "metadata": {
        "colab": {
          "base_uri": "https://localhost:8080/"
        },
        "id": "Ws5WKU_bIRor",
        "outputId": "f8bfd58d-fdd5-44cf-ec77-d2fabf7d8420"
      },
      "execution_count": null,
      "outputs": [
        {
          "output_type": "stream",
          "name": "stdout",
          "text": [
            "0\n"
          ]
        }
      ]
    },
    {
      "cell_type": "code",
      "source": [
        "a=np.array(['banana','cherry','apple'])\n",
        "print(np.sort(a))"
      ],
      "metadata": {
        "colab": {
          "base_uri": "https://localhost:8080/"
        },
        "id": "pzZgK8nOIsH4",
        "outputId": "fd441c72-0af2-4e70-bb29-7f0d1f79daba"
      },
      "execution_count": null,
      "outputs": [
        {
          "output_type": "stream",
          "name": "stdout",
          "text": [
            "['apple' 'banana' 'cherry']\n"
          ]
        }
      ]
    },
    {
      "cell_type": "code",
      "source": [
        "a=np.array(['true','false','true'])\n",
        "print(np.sort(a))"
      ],
      "metadata": {
        "colab": {
          "base_uri": "https://localhost:8080/"
        },
        "id": "Zo2i02PEJeOo",
        "outputId": "067fa90f-6e53-4b9e-864e-d1c761108902"
      },
      "execution_count": null,
      "outputs": [
        {
          "output_type": "stream",
          "name": "stdout",
          "text": [
            "['false' 'true' 'true']\n"
          ]
        }
      ]
    },
    {
      "cell_type": "code",
      "source": [
        "b=np.array([[3,2,4],[5,0,1]])\n",
        "print(np.sort(b))"
      ],
      "metadata": {
        "colab": {
          "base_uri": "https://localhost:8080/"
        },
        "id": "cnMtIlZgJy30",
        "outputId": "62787185-f0f0-49fe-893e-e2e2537fb2d5"
      },
      "execution_count": null,
      "outputs": [
        {
          "output_type": "stream",
          "name": "stdout",
          "text": [
            "[[2 3 4]\n",
            " [0 1 5]]\n"
          ]
        }
      ]
    },
    {
      "cell_type": "markdown",
      "source": [
        "filtering"
      ],
      "metadata": {
        "id": "xdzjHCIHM0Dy"
      }
    },
    {
      "cell_type": "code",
      "source": [
        "b=np.array([40,43,50,44,67,78]) #flit may b e list or array\n",
        "filt=np.where(b%2==0)\n",
        "print(filt)"
      ],
      "metadata": {
        "colab": {
          "base_uri": "https://localhost:8080/"
        },
        "id": "zGZE3GI-MDXq",
        "outputId": "3bc97076-43c0-41e1-970f-63ac78f8d035"
      },
      "execution_count": null,
      "outputs": [
        {
          "output_type": "stream",
          "name": "stdout",
          "text": [
            "(array([0, 2, 3, 5]),)\n"
          ]
        }
      ]
    },
    {
      "cell_type": "code",
      "source": [
        "b[filt]"
      ],
      "metadata": {
        "colab": {
          "base_uri": "https://localhost:8080/"
        },
        "id": "1V2Jz_F-Msus",
        "outputId": "47a84f2c-1067-4ed8-dc19-8e39fe33f60d"
      },
      "execution_count": null,
      "outputs": [
        {
          "output_type": "execute_result",
          "data": {
            "text/plain": [
              "array([40, 50, 44, 78])"
            ]
          },
          "metadata": {},
          "execution_count": 68
        }
      ]
    },
    {
      "cell_type": "markdown",
      "source": [
        "Iterating through two arrays"
      ],
      "metadata": {
        "id": "JHY-Ica2On8N"
      }
    },
    {
      "cell_type": "code",
      "source": [
        "names=np.array([\"sudha\",\"raji\",\"susmi\",\"valli\"])\n",
        "initials=np.array([\"m\",\"d\",\"u\",\"p\"])\n",
        "for i,j in zip(initials,names):\n",
        "  print(i,\".\",j)\n"
      ],
      "metadata": {
        "colab": {
          "base_uri": "https://localhost:8080/"
        },
        "id": "zPy7lJRJNkdd",
        "outputId": "3223f712-9981-478b-c008-34872984047d"
      },
      "execution_count": null,
      "outputs": [
        {
          "output_type": "stream",
          "name": "stdout",
          "text": [
            "m . sudha\n",
            "d . raji\n",
            "u . susmi\n",
            "p . valli\n"
          ]
        }
      ]
    },
    {
      "cell_type": "code",
      "source": [
        "a=np.array([10,20,30,40,50,60])\n",
        "b=np.array([20,21,22,23,24,25])\n",
        "n=np.multiply(a,b)\n",
        "print(n)"
      ],
      "metadata": {
        "colab": {
          "base_uri": "https://localhost:8080/"
        },
        "id": "B4TxY9aoRj5d",
        "outputId": "299eb938-7d19-416a-baf9-e987de7c2501"
      },
      "execution_count": null,
      "outputs": [
        {
          "output_type": "stream",
          "name": "stdout",
          "text": [
            "[ 200  420  660  920 1200 1500]\n"
          ]
        }
      ]
    },
    {
      "cell_type": "code",
      "source": [
        "a=np.array([10,20,30,40,50,60])\n",
        "b=np.array([20,21,22,23,24,25])\n",
        "n=np.divide(a,b)\n",
        "print(n)"
      ],
      "metadata": {
        "colab": {
          "base_uri": "https://localhost:8080/"
        },
        "id": "ErBLjbArRqZd",
        "outputId": "7a1aea47-c86b-4241-daeb-c16f40523057"
      },
      "execution_count": null,
      "outputs": [
        {
          "output_type": "stream",
          "name": "stdout",
          "text": [
            "[0.5        0.95238095 1.36363636 1.73913043 2.08333333 2.4       ]\n"
          ]
        }
      ]
    },
    {
      "cell_type": "code",
      "source": [
        "a=np.array([10,20,30,40,50,60])\n",
        "b=np.array([20,21,22,23,24,25])\n",
        "n=np.mod(a,b)\n",
        "print(n)"
      ],
      "metadata": {
        "colab": {
          "base_uri": "https://localhost:8080/"
        },
        "id": "qNAnzUZcRrld",
        "outputId": "2c327117-f9b1-482b-a840-bb3c3ef7941b"
      },
      "execution_count": null,
      "outputs": [
        {
          "output_type": "stream",
          "name": "stdout",
          "text": [
            "[10 20  8 17  2 10]\n"
          ]
        }
      ]
    },
    {
      "cell_type": "code",
      "source": [
        "a=np.array([10,20,30,40,50,60])\n",
        "b=np.array([20,21,22,23,24,25])\n",
        "n=np.divmod(a,b)\n",
        "print(n)"
      ],
      "metadata": {
        "colab": {
          "base_uri": "https://localhost:8080/"
        },
        "id": "zwyRa0ogR-AS",
        "outputId": "af643ab4-dfdf-4e27-fccb-caa1f28d91b5"
      },
      "execution_count": null,
      "outputs": [
        {
          "output_type": "stream",
          "name": "stdout",
          "text": [
            "(array([0, 0, 1, 1, 2, 2]), array([10, 20,  8, 17,  2, 10]))\n"
          ]
        }
      ]
    },
    {
      "cell_type": "markdown",
      "source": [
        "Logrithms"
      ],
      "metadata": {
        "id": "Y9tjV37oSaId"
      }
    },
    {
      "cell_type": "code",
      "source": [
        "a1=np.arange(1,10)\n",
        "print(a)\n",
        "print(np.log2(a1))"
      ],
      "metadata": {
        "colab": {
          "base_uri": "https://localhost:8080/"
        },
        "id": "1JYco99WSpNL",
        "outputId": "6a965f51-83e1-499f-ba13-ceb237428af9"
      },
      "execution_count": null,
      "outputs": [
        {
          "output_type": "stream",
          "name": "stdout",
          "text": [
            "[10 20 30 40 50 60]\n",
            "[0.         1.         1.5849625  2.         2.32192809 2.5849625\n",
            " 2.80735492 3.         3.169925  ]\n"
          ]
        }
      ]
    },
    {
      "cell_type": "code",
      "source": [
        "a=1.2\n",
        "print(np.log(a)) #log base e"
      ],
      "metadata": {
        "colab": {
          "base_uri": "https://localhost:8080/"
        },
        "id": "6tHgCc4TTP19",
        "outputId": "6097d802-03d8-4a5d-f1ab-b57d39d73aa9"
      },
      "execution_count": null,
      "outputs": [
        {
          "output_type": "stream",
          "name": "stdout",
          "text": [
            "0.1823215567939546\n"
          ]
        }
      ]
    },
    {
      "cell_type": "code",
      "source": [
        "a=1.2\n",
        "print(np.log2(a))#log base 2"
      ],
      "metadata": {
        "colab": {
          "base_uri": "https://localhost:8080/"
        },
        "id": "BZvWXW-zTDz_",
        "outputId": "6b067fa8-6b19-493f-8fc3-dc5a68d8e683"
      },
      "execution_count": null,
      "outputs": [
        {
          "output_type": "stream",
          "name": "stdout",
          "text": [
            "0.2630344058337938\n"
          ]
        }
      ]
    },
    {
      "cell_type": "code",
      "source": [
        "a=1.2\n",
        "print(np.log10(a))#log base 10"
      ],
      "metadata": {
        "colab": {
          "base_uri": "https://localhost:8080/"
        },
        "id": "ozQCsKepTEE3",
        "outputId": "00435746-94b1-4394-d4c6-130f9c4d5cab"
      },
      "execution_count": null,
      "outputs": [
        {
          "output_type": "stream",
          "name": "stdout",
          "text": [
            "0.07918124604762482\n"
          ]
        }
      ]
    },
    {
      "cell_type": "code",
      "source": [
        "a=np.array([1,1.2,3,4])\n",
        "print(np.log(a)) #natural  log e"
      ],
      "metadata": {
        "colab": {
          "base_uri": "https://localhost:8080/"
        },
        "id": "UttKXzqoT7Hs",
        "outputId": "c846e796-c0d5-430c-d00e-f01a57861483"
      },
      "execution_count": null,
      "outputs": [
        {
          "output_type": "stream",
          "name": "stdout",
          "text": [
            "[0.         0.18232156 1.09861229 1.38629436]\n"
          ]
        }
      ]
    },
    {
      "cell_type": "markdown",
      "source": [
        "other mathmatical functions"
      ],
      "metadata": {
        "id": "5ZxWtUCrUyZQ"
      }
    },
    {
      "cell_type": "code",
      "source": [
        "c=np.array([5,6,3,8])\n",
        "print(np.cumprod(c))"
      ],
      "metadata": {
        "colab": {
          "base_uri": "https://localhost:8080/"
        },
        "id": "fXR7CfZuU6oI",
        "outputId": "b2a6298f-64c2-4c1f-9548-5821cab13f2a"
      },
      "execution_count": null,
      "outputs": [
        {
          "output_type": "stream",
          "name": "stdout",
          "text": [
            "[  5  30  90 720]\n"
          ]
        }
      ]
    },
    {
      "cell_type": "code",
      "source": [
        "c=np.array([5,6,3,8])\n",
        "print(np.sum(c))"
      ],
      "metadata": {
        "colab": {
          "base_uri": "https://localhost:8080/"
        },
        "id": "iP93yl5jU62O",
        "outputId": "ec6a98b0-d4a9-4e6d-99e4-004a4561ed76"
      },
      "execution_count": null,
      "outputs": [
        {
          "output_type": "stream",
          "name": "stdout",
          "text": [
            "22\n"
          ]
        }
      ]
    },
    {
      "cell_type": "code",
      "source": [
        "a=np.array([10,15,25,15])\n",
        "n=np.diff(a)\n",
        "print(n)"
      ],
      "metadata": {
        "colab": {
          "base_uri": "https://localhost:8080/"
        },
        "id": "ChzfMb0cV1Ql",
        "outputId": "be99476d-febb-4a30-b115-34f9426152aa"
      },
      "execution_count": null,
      "outputs": [
        {
          "output_type": "stream",
          "name": "stdout",
          "text": [
            "[  5  10 -10]\n"
          ]
        }
      ]
    },
    {
      "cell_type": "code",
      "source": [
        "a=455\n",
        "b=665\n",
        "print(np.lcm(a,b))"
      ],
      "metadata": {
        "colab": {
          "base_uri": "https://localhost:8080/"
        },
        "id": "3QSm7r6pWF3t",
        "outputId": "638e08a6-aa89-4262-d4a4-d74f506985c1"
      },
      "execution_count": null,
      "outputs": [
        {
          "output_type": "stream",
          "name": "stdout",
          "text": [
            "8645\n"
          ]
        }
      ]
    },
    {
      "cell_type": "code",
      "source": [
        "a=455\n",
        "b=665\n",
        "print(np.gcd(a,b))"
      ],
      "metadata": {
        "colab": {
          "base_uri": "https://localhost:8080/"
        },
        "id": "aQ3-XsuaWPTc",
        "outputId": "63441e2d-6fc5-4f12-f10c-2920fbe0fa9d"
      },
      "execution_count": null,
      "outputs": [
        {
          "output_type": "stream",
          "name": "stdout",
          "text": [
            "35\n"
          ]
        }
      ]
    },
    {
      "cell_type": "code",
      "source": [],
      "metadata": {
        "id": "U9X7Bx8jYSs0"
      },
      "execution_count": null,
      "outputs": []
    },
    {
      "cell_type": "code",
      "source": [],
      "metadata": {
        "id": "YbXXsXT7YSwJ"
      },
      "execution_count": null,
      "outputs": []
    },
    {
      "cell_type": "code",
      "source": [
        "a=np.array([12,15,60])\n",
        "gc=np.gcd.reduce(a) #takes multiple gives single output\n",
        "print(gc)"
      ],
      "metadata": {
        "colab": {
          "base_uri": "https://localhost:8080/"
        },
        "id": "g2SBlMagXf6Q",
        "outputId": "9cf1b61d-be33-4a7f-8e72-0c252eb32524"
      },
      "execution_count": null,
      "outputs": [
        {
          "output_type": "stream",
          "name": "stdout",
          "text": [
            "3\n"
          ]
        }
      ]
    },
    {
      "cell_type": "code",
      "source": [
        "a=np.array([12,15,60])\n",
        "lc=np.lcm.reduce(a) #takes multiple gives single output\n",
        "print(lc)"
      ],
      "metadata": {
        "colab": {
          "base_uri": "https://localhost:8080/"
        },
        "id": "0Jx9ULWcXgMP",
        "outputId": "46d1d1cf-d216-438b-e39c-8cd4cab5829c"
      },
      "execution_count": null,
      "outputs": [
        {
          "output_type": "stream",
          "name": "stdout",
          "text": [
            "60\n"
          ]
        }
      ]
    }
  ]
}